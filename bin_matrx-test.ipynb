{
 "cells": [
  {
   "cell_type": "code",
   "execution_count": 8,
   "metadata": {},
   "outputs": [],
   "source": [
    "\n",
    "import os\n",
    "import pandas as pd\n",
    "import numpy as np\n",
    "\n",
    "class SessionHnd:\n",
    "  def __init__(self, data_path):\n",
    "    self.data_path = data_path\n",
    "    self.sessions=pd.read_hdf('%s/ecephys_sessions.h5' % data_path)\n",
    "    self._set_session_ids()\n",
    "\n",
    "  def _set_session_ids(self):\n",
    "    session_ids=[]\n",
    "    for filename in os.listdir(self.data_path):\n",
    "      if filename.startswith('1'):\n",
    "        session_ids.append(int(filename[0:10]))\n",
    "    session_ids=list(set(session_ids))\n",
    "    self.session_ids = session_ids\n",
    "\n",
    "  def get_acronyms_for_session(self, session_id):\n",
    "    if session_id not in self.session_ids:\n",
    "        raise KeyError(\"A session_id '{}' não foi encontrada.\".format(session_id))\n",
    "\n",
    "    acronyms=self.sessions.loc[session_id].structure_acronyms\n",
    "    acronyms=acronyms.split(\"'\")[1:-1]\n",
    "    while (', ' in acronyms):\n",
    "      acronyms.remove(', ')\n",
    "    acronyms.remove('root') # Remove root\n",
    "    acronyms = [item for item in acronyms if not item.startswith('DG-')]\n",
    "    acronyms.append('DG')\n",
    "    acronyms.sort()\n",
    "    return (acronyms)\n",
    "\n",
    "  def get_sessions_for (self, acronym):\n",
    "\n",
    "    sessions = []\n",
    "    for session_id in self.session_ids:\n",
    "      if (self.exists_session_for(session_id, acronym)):\n",
    "        sessions.append(session_id)\n",
    "    return (sessions)\n",
    "\n",
    "  def exists_session_for(self, session_id, acronym):\n",
    "    filename = '%s/%d-%s-spk.h5' % (self.data_path, session_id, acronym)\n",
    "    return (os.path.exists(filename))\n",
    "\n",
    "  def get_spikes (self, session_id, acronym):\n",
    "    spikes=None\n",
    "\n",
    "    filename_spk='%s/%s-%s-spk.h5' % (self.data_path,session_id,acronym)\n",
    "    if not os.path.exists(filename_spk):\n",
    "        return (spikes)\n",
    "\n",
    "    spikes = pd.read_hdf(filename_spk, key='spk')\n",
    "    spikes.name = '%s-%s' % (session_id,acronym)\n",
    "    spikes=spikes.sort_index()\n",
    "    return (spikes)\n",
    "\n",
    "  def get_speed_run (self, session_id):\n",
    "    filename = '%s/behavior/%d-comp-vel.h5' % (self.data_path,session_id)\n",
    "    if not os.path.exists(filename):\n",
    "        raise FileNotFoundError(\"File not found '{}'.\".format(filename))\n",
    "    v=pd.read_hdf (filename)\n",
    "    return (v)\n",
    "\n",
    "  def get_reward (self, session_id):\n",
    "    filename = '%s/%d-rew.h5' % (self.data_path,session_id)\n",
    "    reward = pd.read_hdf(filename)\n",
    "    return (reward)\n",
    "\n",
    "  def get_stim (self, session_id):\n",
    "    filename = '%s/%d-stim.h5' % (self.data_path,session_id)\n",
    "    stim = pd.read_hdf(filename)\n",
    "    return (stim)\n",
    "\n",
    "  def get_stim_times (self, stim_name, session_id):\n",
    "    stim = self.get_stim (session_id)\n",
    "    times = None\n",
    "    stim_names = {'natural': 'Nat', 'spont': 'spont', 'gabor': 'gabor', 'flash': 'flash'}\n",
    "    if (stim_name in stim_names.keys()):\n",
    "      N=stim.stimulus_name.str.startswith(stim_names[stim_name])\n",
    "      times=stim[N]['start_time'].dropna().values\n",
    "    return (times)\n"
   ]
  },
  {
   "cell_type": "code",
   "execution_count": 9,
   "metadata": {},
   "outputs": [],
   "source": [
    "data_path='/home/napvasconcelos/data/allen-icvb'\n",
    "shnd = SessionHnd (data_path=data_path)"
   ]
  },
  {
   "cell_type": "code",
   "execution_count": 10,
   "metadata": {},
   "outputs": [],
   "source": [
    "spikes = shnd.get_spikes(session_id=1044594870, acronym='VISl')"
   ]
  },
  {
   "cell_type": "code",
   "execution_count": 23,
   "metadata": {},
   "outputs": [
    {
     "name": "stdout",
     "output_type": "stream",
     "text": [
      "(972014,)\n"
     ]
    }
   ],
   "source": [
    "ms=1e-3\n",
    "neurons=spikes.unique()\n",
    "nrows=len(neurons)\n",
    "t=spikes.index\n",
    "bin_size = 10*ms\n",
    "bins=np.arange(0,spikes.index[-1],bin_size)\n",
    "count, tbins=np.histogram(t,bins)\n",
    "ncols = len(count)\n",
    "print (count.shape)\n",
    "B=np.zeros((nrows, ncols), dtype=np.int8)\n",
    "i=0\n",
    "for i, n in enumerate(neurons):\n",
    "    B[i],_ =  np.histogram(spikes[spikes==n],bins)\n",
    "\n"
   ]
  },
  {
   "cell_type": "code",
   "execution_count": 24,
   "metadata": {},
   "outputs": [
    {
     "data": {
      "text/plain": [
       "131"
      ]
     },
     "execution_count": 24,
     "metadata": {},
     "output_type": "execute_result"
    }
   ],
   "source": [
    "i"
   ]
  },
  {
   "cell_type": "code",
   "execution_count": 21,
   "metadata": {},
   "outputs": [
    {
     "data": {
      "text/plain": [
       "array([[0, 0, 0, ..., 0, 0, 0],\n",
       "       [0, 0, 0, ..., 0, 0, 0],\n",
       "       [0, 0, 0, ..., 0, 0, 0],\n",
       "       ...,\n",
       "       [0, 0, 0, ..., 0, 0, 0],\n",
       "       [0, 0, 0, ..., 0, 0, 0],\n",
       "       [0, 0, 0, ..., 0, 0, 0]], dtype=int8)"
      ]
     },
     "execution_count": 21,
     "metadata": {},
     "output_type": "execute_result"
    }
   ],
   "source": [
    "B[:,100:110]"
   ]
  },
  {
   "cell_type": "code",
   "execution_count": null,
   "metadata": {},
   "outputs": [],
   "source": [
    "def get_neuronal_pattern (self, tsamples, B, width):\n",
    "    nneurons=B.shape[0]\n",
    "\n",
    "    nbins = width\n",
    "    pattern = np.zeros((nneurons,nbins),dtype=np.int8)\n",
    "    for s0  in tsamples:\n",
    "        #self.logger.info ('get pattern %d ' % i)\n",
    "        mask = (spikes==unit_id)\n",
    "        s= spikes[mask].index.astype(float)\n",
    "        spk=s[(s>=t0) & (s<t1)]\n",
    "        pattern[i]=np.histogram(spk-t0, bins)[0]\n",
    "        i+=1\n",
    "\n",
    "    return (pattern)"
   ]
  }
 ],
 "metadata": {
  "kernelspec": {
   "display_name": "icvb",
   "language": "python",
   "name": "python3"
  },
  "language_info": {
   "codemirror_mode": {
    "name": "ipython",
    "version": 3
   },
   "file_extension": ".py",
   "mimetype": "text/x-python",
   "name": "python",
   "nbconvert_exporter": "python",
   "pygments_lexer": "ipython3",
   "version": "3.11.3"
  },
  "orig_nbformat": 4
 },
 "nbformat": 4,
 "nbformat_minor": 2
}
